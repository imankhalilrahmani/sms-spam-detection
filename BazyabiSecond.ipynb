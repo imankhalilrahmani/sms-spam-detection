{
  "nbformat": 4,
  "nbformat_minor": 0,
  "metadata": {
    "colab": {
      "provenance": [],
      "gpuType": "T4"
    },
    "kernelspec": {
      "name": "python3",
      "display_name": "Python 3"
    },
    "language_info": {
      "name": "python"
    }
  },
  "cells": [
    {
      "cell_type": "markdown",
      "source": [
        "### گزارش نهایی پروژه تشخیص اسپم پیامک\n",
        "<div dir=\"rtl\">\n",
        "**نام دانشجو:** ایمان خلیل‌الرحمانی\n",
        "\n",
        "در این پروژه به منظور تشخیص پیامک‌های اسپم، چهار الگوریتم یادگیری ماشین شامل نزدیک‌ترین همسایه (KNN)، رگرسیون لجستیک (Logistic Regression)، جنگل تصادفی (Random Forest) و XGBoost بر روی مجموعه داده پیامک‌ها پیاده‌سازی و ارزیابی شد.  \n",
        "برای هر یک از مدل‌ها، با استفاده از روش جستجوی شبکه‌ای (GridSearchCV) بهینه‌ترین پارامترها تعیین گردید و عملکرد مدل‌ها با استفاده از اعتبارسنجی متقاطع ده‌لایه‌ای (10-fold cross validation) مورد سنجش قرار گرفت.\n",
        "\n",
        "**پارامترهای بهینه انتخاب شده برای هر مدل به شرح زیر است:**\n",
        "\n",
        "- **KNN:** تعداد همسایه = ۱  \n",
        "- **Logistic Regression:** مقدار C = ۱۰۰  \n",
        "- **Random Forest:** تعداد درخت = ۲۰۰ ، عمق درخت = نامحدود (None)\n",
        "- **XGBoost:** با تنظیمات بهینه‌شده پیش‌فرض (پارامترهای تنظیم‌شده با GridSearchCV)\n",
        "\n",
        "**نتایج میانگین دقت و انحراف معیار مدل‌ها بر اساس اعتبارسنجی ۱۰-لایه‌ای:**\n",
        "\n",
        "| مدل                  | میانگین دقت | انحراف معیار دقت |\n",
        "|----------------------|-------------|------------------|\n",
        "| KNN                  | 0.9587      | 0.0060           |\n",
        "| Logistic Regression  | 0.9846      | 0.0043           |\n",
        "| Random Forest        | 0.9826      | 0.0060           |\n",
        "| XGBoost              | 0.9747      | 0.0055           |\n",
        "\n",
        "### تحلیل نتایج:\n",
        "\n",
        "بر اساس نتایج به‌دست‌آمده، مدل رگرسیون لجستیک (Logistic Regression) با دقت میانگین **0.9846** و انحراف معیار **0.0043**، بهترین عملکرد را در بین مدل‌های بررسی‌شده ارائه داده است. پس از آن، مدل جنگل تصادفی (Random Forest) با دقت بسیار نزدیک **0.9826** قرار دارد.  \n",
        "مدل XGBoost با وجود عملکرد قابل قبول (**0.9747**)، نسبت به دو مدل قبلی از دقت پایین‌تری برخوردار است. مدل KNN نیز با وجود سادگی، دقت نسبتاً خوبی (**0.9587**) ارائه داده است، اما در رتبه آخر قرار می‌گیرد.\n",
        "\n",
        "در مجموع، با توجه به دقت بالاتر و پایداری مدل‌های رگرسیون لجستیک و جنگل تصادفی، توصیه می‌شود در کاربردهای عملی تشخیص اسپم، اولویت استفاده با این دو مدل باشد. XGBoost نیز می‌تواند به عنوان یک مدل مکمل مورد بررسی قرار گیرد.  \n",
        "مدل KNN به‌دلیل سادگی و سرعت بالا، می‌تواند در شرایط خاص مورد استفاده قرار گیرد اما از نظر دقت، نسبت به سایر مدل‌ها ضعیف‌تر عمل می‌کند.\n",
        "</div>"
      ],
      "metadata": {
        "id": "gZb4fKW66Iex"
      }
    },
    {
      "cell_type": "code",
      "execution_count": 5,
      "metadata": {
        "colab": {
          "base_uri": "https://localhost:8080/"
        },
        "id": "o22_cmm10_fF",
        "outputId": "45df5382-c2fc-4929-c8ff-573f61b1363e"
      },
      "outputs": [
        {
          "output_type": "stream",
          "name": "stdout",
          "text": [
            "کتابخانه‌ها با موفقیت ایمپورت شدند.\n"
          ]
        }
      ],
      "source": [
        "# ایمپورت کتابخانه‌های لازم\n",
        "import pandas as pd\n",
        "import numpy as np\n",
        "import matplotlib.pyplot as plt\n",
        "\n",
        "from sklearn.model_selection import train_test_split, GridSearchCV, cross_val_score, StratifiedKFold\n",
        "from sklearn.feature_extraction.text import TfidfVectorizer\n",
        "from sklearn.metrics import classification_report, accuracy_score\n",
        "\n",
        "from sklearn.neighbors import KNeighborsClassifier\n",
        "from sklearn.linear_model import LogisticRegression\n",
        "from sklearn.ensemble import RandomForestClassifier\n",
        "\n",
        "from xgboost import XGBClassifier\n",
        "\n",
        "import warnings\n",
        "warnings.filterwarnings('ignore')\n",
        "\n",
        "print(\"کتابخانه‌ها با موفقیت ایمپورت شدند.\")\n"
      ]
    },
    {
      "cell_type": "code",
      "source": [
        "# بارگذاری و بررسی اولیه داده‌ها\n",
        "# فرض بر این است که فایل دیتاست 'spam.csv' در کنار نوت‌بوک است.\n",
        "df = pd.read_csv('https://raw.githubusercontent.com/mohitgupta-omg/Kaggle-SMS-Spam-Collection-Dataset-/master/spam.csv', encoding='latin-1')\n",
        "\n",
        "# نمایش چند ردیف اول\n",
        "df.head()\n"
      ],
      "metadata": {
        "colab": {
          "base_uri": "https://localhost:8080/",
          "height": 206
        },
        "id": "Ofms0VUg1Fuw",
        "outputId": "91799a32-ee7c-488d-916e-29d6952f8c31"
      },
      "execution_count": 6,
      "outputs": [
        {
          "output_type": "execute_result",
          "data": {
            "text/plain": [
              "     v1                                                 v2 Unnamed: 2  \\\n",
              "0   ham  Go until jurong point, crazy.. Available only ...        NaN   \n",
              "1   ham                      Ok lar... Joking wif u oni...        NaN   \n",
              "2  spam  Free entry in 2 a wkly comp to win FA Cup fina...        NaN   \n",
              "3   ham  U dun say so early hor... U c already then say...        NaN   \n",
              "4   ham  Nah I don't think he goes to usf, he lives aro...        NaN   \n",
              "\n",
              "  Unnamed: 3 Unnamed: 4  \n",
              "0        NaN        NaN  \n",
              "1        NaN        NaN  \n",
              "2        NaN        NaN  \n",
              "3        NaN        NaN  \n",
              "4        NaN        NaN  "
            ],
            "text/html": [
              "\n",
              "  <div id=\"df-01543fb4-e2c3-47af-a44e-f78abbb260dc\" class=\"colab-df-container\">\n",
              "    <div>\n",
              "<style scoped>\n",
              "    .dataframe tbody tr th:only-of-type {\n",
              "        vertical-align: middle;\n",
              "    }\n",
              "\n",
              "    .dataframe tbody tr th {\n",
              "        vertical-align: top;\n",
              "    }\n",
              "\n",
              "    .dataframe thead th {\n",
              "        text-align: right;\n",
              "    }\n",
              "</style>\n",
              "<table border=\"1\" class=\"dataframe\">\n",
              "  <thead>\n",
              "    <tr style=\"text-align: right;\">\n",
              "      <th></th>\n",
              "      <th>v1</th>\n",
              "      <th>v2</th>\n",
              "      <th>Unnamed: 2</th>\n",
              "      <th>Unnamed: 3</th>\n",
              "      <th>Unnamed: 4</th>\n",
              "    </tr>\n",
              "  </thead>\n",
              "  <tbody>\n",
              "    <tr>\n",
              "      <th>0</th>\n",
              "      <td>ham</td>\n",
              "      <td>Go until jurong point, crazy.. Available only ...</td>\n",
              "      <td>NaN</td>\n",
              "      <td>NaN</td>\n",
              "      <td>NaN</td>\n",
              "    </tr>\n",
              "    <tr>\n",
              "      <th>1</th>\n",
              "      <td>ham</td>\n",
              "      <td>Ok lar... Joking wif u oni...</td>\n",
              "      <td>NaN</td>\n",
              "      <td>NaN</td>\n",
              "      <td>NaN</td>\n",
              "    </tr>\n",
              "    <tr>\n",
              "      <th>2</th>\n",
              "      <td>spam</td>\n",
              "      <td>Free entry in 2 a wkly comp to win FA Cup fina...</td>\n",
              "      <td>NaN</td>\n",
              "      <td>NaN</td>\n",
              "      <td>NaN</td>\n",
              "    </tr>\n",
              "    <tr>\n",
              "      <th>3</th>\n",
              "      <td>ham</td>\n",
              "      <td>U dun say so early hor... U c already then say...</td>\n",
              "      <td>NaN</td>\n",
              "      <td>NaN</td>\n",
              "      <td>NaN</td>\n",
              "    </tr>\n",
              "    <tr>\n",
              "      <th>4</th>\n",
              "      <td>ham</td>\n",
              "      <td>Nah I don't think he goes to usf, he lives aro...</td>\n",
              "      <td>NaN</td>\n",
              "      <td>NaN</td>\n",
              "      <td>NaN</td>\n",
              "    </tr>\n",
              "  </tbody>\n",
              "</table>\n",
              "</div>\n",
              "    <div class=\"colab-df-buttons\">\n",
              "\n",
              "  <div class=\"colab-df-container\">\n",
              "    <button class=\"colab-df-convert\" onclick=\"convertToInteractive('df-01543fb4-e2c3-47af-a44e-f78abbb260dc')\"\n",
              "            title=\"Convert this dataframe to an interactive table.\"\n",
              "            style=\"display:none;\">\n",
              "\n",
              "  <svg xmlns=\"http://www.w3.org/2000/svg\" height=\"24px\" viewBox=\"0 -960 960 960\">\n",
              "    <path d=\"M120-120v-720h720v720H120Zm60-500h600v-160H180v160Zm220 220h160v-160H400v160Zm0 220h160v-160H400v160ZM180-400h160v-160H180v160Zm440 0h160v-160H620v160ZM180-180h160v-160H180v160Zm440 0h160v-160H620v160Z\"/>\n",
              "  </svg>\n",
              "    </button>\n",
              "\n",
              "  <style>\n",
              "    .colab-df-container {\n",
              "      display:flex;\n",
              "      gap: 12px;\n",
              "    }\n",
              "\n",
              "    .colab-df-convert {\n",
              "      background-color: #E8F0FE;\n",
              "      border: none;\n",
              "      border-radius: 50%;\n",
              "      cursor: pointer;\n",
              "      display: none;\n",
              "      fill: #1967D2;\n",
              "      height: 32px;\n",
              "      padding: 0 0 0 0;\n",
              "      width: 32px;\n",
              "    }\n",
              "\n",
              "    .colab-df-convert:hover {\n",
              "      background-color: #E2EBFA;\n",
              "      box-shadow: 0px 1px 2px rgba(60, 64, 67, 0.3), 0px 1px 3px 1px rgba(60, 64, 67, 0.15);\n",
              "      fill: #174EA6;\n",
              "    }\n",
              "\n",
              "    .colab-df-buttons div {\n",
              "      margin-bottom: 4px;\n",
              "    }\n",
              "\n",
              "    [theme=dark] .colab-df-convert {\n",
              "      background-color: #3B4455;\n",
              "      fill: #D2E3FC;\n",
              "    }\n",
              "\n",
              "    [theme=dark] .colab-df-convert:hover {\n",
              "      background-color: #434B5C;\n",
              "      box-shadow: 0px 1px 3px 1px rgba(0, 0, 0, 0.15);\n",
              "      filter: drop-shadow(0px 1px 2px rgba(0, 0, 0, 0.3));\n",
              "      fill: #FFFFFF;\n",
              "    }\n",
              "  </style>\n",
              "\n",
              "    <script>\n",
              "      const buttonEl =\n",
              "        document.querySelector('#df-01543fb4-e2c3-47af-a44e-f78abbb260dc button.colab-df-convert');\n",
              "      buttonEl.style.display =\n",
              "        google.colab.kernel.accessAllowed ? 'block' : 'none';\n",
              "\n",
              "      async function convertToInteractive(key) {\n",
              "        const element = document.querySelector('#df-01543fb4-e2c3-47af-a44e-f78abbb260dc');\n",
              "        const dataTable =\n",
              "          await google.colab.kernel.invokeFunction('convertToInteractive',\n",
              "                                                    [key], {});\n",
              "        if (!dataTable) return;\n",
              "\n",
              "        const docLinkHtml = 'Like what you see? Visit the ' +\n",
              "          '<a target=\"_blank\" href=https://colab.research.google.com/notebooks/data_table.ipynb>data table notebook</a>'\n",
              "          + ' to learn more about interactive tables.';\n",
              "        element.innerHTML = '';\n",
              "        dataTable['output_type'] = 'display_data';\n",
              "        await google.colab.output.renderOutput(dataTable, element);\n",
              "        const docLink = document.createElement('div');\n",
              "        docLink.innerHTML = docLinkHtml;\n",
              "        element.appendChild(docLink);\n",
              "      }\n",
              "    </script>\n",
              "  </div>\n",
              "\n",
              "\n",
              "    <div id=\"df-ae4b3f7c-f133-498c-9557-c184eeb0f54b\">\n",
              "      <button class=\"colab-df-quickchart\" onclick=\"quickchart('df-ae4b3f7c-f133-498c-9557-c184eeb0f54b')\"\n",
              "                title=\"Suggest charts\"\n",
              "                style=\"display:none;\">\n",
              "\n",
              "<svg xmlns=\"http://www.w3.org/2000/svg\" height=\"24px\"viewBox=\"0 0 24 24\"\n",
              "     width=\"24px\">\n",
              "    <g>\n",
              "        <path d=\"M19 3H5c-1.1 0-2 .9-2 2v14c0 1.1.9 2 2 2h14c1.1 0 2-.9 2-2V5c0-1.1-.9-2-2-2zM9 17H7v-7h2v7zm4 0h-2V7h2v10zm4 0h-2v-4h2v4z\"/>\n",
              "    </g>\n",
              "</svg>\n",
              "      </button>\n",
              "\n",
              "<style>\n",
              "  .colab-df-quickchart {\n",
              "      --bg-color: #E8F0FE;\n",
              "      --fill-color: #1967D2;\n",
              "      --hover-bg-color: #E2EBFA;\n",
              "      --hover-fill-color: #174EA6;\n",
              "      --disabled-fill-color: #AAA;\n",
              "      --disabled-bg-color: #DDD;\n",
              "  }\n",
              "\n",
              "  [theme=dark] .colab-df-quickchart {\n",
              "      --bg-color: #3B4455;\n",
              "      --fill-color: #D2E3FC;\n",
              "      --hover-bg-color: #434B5C;\n",
              "      --hover-fill-color: #FFFFFF;\n",
              "      --disabled-bg-color: #3B4455;\n",
              "      --disabled-fill-color: #666;\n",
              "  }\n",
              "\n",
              "  .colab-df-quickchart {\n",
              "    background-color: var(--bg-color);\n",
              "    border: none;\n",
              "    border-radius: 50%;\n",
              "    cursor: pointer;\n",
              "    display: none;\n",
              "    fill: var(--fill-color);\n",
              "    height: 32px;\n",
              "    padding: 0;\n",
              "    width: 32px;\n",
              "  }\n",
              "\n",
              "  .colab-df-quickchart:hover {\n",
              "    background-color: var(--hover-bg-color);\n",
              "    box-shadow: 0 1px 2px rgba(60, 64, 67, 0.3), 0 1px 3px 1px rgba(60, 64, 67, 0.15);\n",
              "    fill: var(--button-hover-fill-color);\n",
              "  }\n",
              "\n",
              "  .colab-df-quickchart-complete:disabled,\n",
              "  .colab-df-quickchart-complete:disabled:hover {\n",
              "    background-color: var(--disabled-bg-color);\n",
              "    fill: var(--disabled-fill-color);\n",
              "    box-shadow: none;\n",
              "  }\n",
              "\n",
              "  .colab-df-spinner {\n",
              "    border: 2px solid var(--fill-color);\n",
              "    border-color: transparent;\n",
              "    border-bottom-color: var(--fill-color);\n",
              "    animation:\n",
              "      spin 1s steps(1) infinite;\n",
              "  }\n",
              "\n",
              "  @keyframes spin {\n",
              "    0% {\n",
              "      border-color: transparent;\n",
              "      border-bottom-color: var(--fill-color);\n",
              "      border-left-color: var(--fill-color);\n",
              "    }\n",
              "    20% {\n",
              "      border-color: transparent;\n",
              "      border-left-color: var(--fill-color);\n",
              "      border-top-color: var(--fill-color);\n",
              "    }\n",
              "    30% {\n",
              "      border-color: transparent;\n",
              "      border-left-color: var(--fill-color);\n",
              "      border-top-color: var(--fill-color);\n",
              "      border-right-color: var(--fill-color);\n",
              "    }\n",
              "    40% {\n",
              "      border-color: transparent;\n",
              "      border-right-color: var(--fill-color);\n",
              "      border-top-color: var(--fill-color);\n",
              "    }\n",
              "    60% {\n",
              "      border-color: transparent;\n",
              "      border-right-color: var(--fill-color);\n",
              "    }\n",
              "    80% {\n",
              "      border-color: transparent;\n",
              "      border-right-color: var(--fill-color);\n",
              "      border-bottom-color: var(--fill-color);\n",
              "    }\n",
              "    90% {\n",
              "      border-color: transparent;\n",
              "      border-bottom-color: var(--fill-color);\n",
              "    }\n",
              "  }\n",
              "</style>\n",
              "\n",
              "      <script>\n",
              "        async function quickchart(key) {\n",
              "          const quickchartButtonEl =\n",
              "            document.querySelector('#' + key + ' button');\n",
              "          quickchartButtonEl.disabled = true;  // To prevent multiple clicks.\n",
              "          quickchartButtonEl.classList.add('colab-df-spinner');\n",
              "          try {\n",
              "            const charts = await google.colab.kernel.invokeFunction(\n",
              "                'suggestCharts', [key], {});\n",
              "          } catch (error) {\n",
              "            console.error('Error during call to suggestCharts:', error);\n",
              "          }\n",
              "          quickchartButtonEl.classList.remove('colab-df-spinner');\n",
              "          quickchartButtonEl.classList.add('colab-df-quickchart-complete');\n",
              "        }\n",
              "        (() => {\n",
              "          let quickchartButtonEl =\n",
              "            document.querySelector('#df-ae4b3f7c-f133-498c-9557-c184eeb0f54b button');\n",
              "          quickchartButtonEl.style.display =\n",
              "            google.colab.kernel.accessAllowed ? 'block' : 'none';\n",
              "        })();\n",
              "      </script>\n",
              "    </div>\n",
              "    </div>\n",
              "  </div>\n"
            ],
            "application/vnd.google.colaboratory.intrinsic+json": {
              "type": "dataframe",
              "variable_name": "df",
              "summary": "{\n  \"name\": \"df\",\n  \"rows\": 5572,\n  \"fields\": [\n    {\n      \"column\": \"v1\",\n      \"properties\": {\n        \"dtype\": \"category\",\n        \"num_unique_values\": 2,\n        \"samples\": [\n          \"spam\",\n          \"ham\"\n        ],\n        \"semantic_type\": \"\",\n        \"description\": \"\"\n      }\n    },\n    {\n      \"column\": \"v2\",\n      \"properties\": {\n        \"dtype\": \"string\",\n        \"num_unique_values\": 5169,\n        \"samples\": [\n          \"Did u download the fring app?\",\n          \"Pass dis to all ur contacts n see wat u get! Red;i'm in luv wid u. Blue;u put a smile on my face. Purple;u r realy hot. Pink;u r so swt. Orange;i thnk i lyk u. Green;i realy wana go out wid u. Yelow;i wnt u bck. Black;i'm jealous of u. Brown;i miss you Nw plz giv me one color\"\n        ],\n        \"semantic_type\": \"\",\n        \"description\": \"\"\n      }\n    },\n    {\n      \"column\": \"Unnamed: 2\",\n      \"properties\": {\n        \"dtype\": \"category\",\n        \"num_unique_values\": 43,\n        \"samples\": [\n          \" GOD said\",\n          \" SHE SHUDVETOLD U. DID URGRAN KNOW?NEWAY\"\n        ],\n        \"semantic_type\": \"\",\n        \"description\": \"\"\n      }\n    },\n    {\n      \"column\": \"Unnamed: 3\",\n      \"properties\": {\n        \"dtype\": \"category\",\n        \"num_unique_values\": 10,\n        \"samples\": [\n          \" \\\\\\\"OH No! COMPETITION\\\\\\\". Who knew\",\n          \" why to miss them\"\n        ],\n        \"semantic_type\": \"\",\n        \"description\": \"\"\n      }\n    },\n    {\n      \"column\": \"Unnamed: 4\",\n      \"properties\": {\n        \"dtype\": \"category\",\n        \"num_unique_values\": 5,\n        \"samples\": [\n          \"GNT:-)\\\"\",\n          \" one day these two will become FREINDS FOREVER!\\\"\"\n        ],\n        \"semantic_type\": \"\",\n        \"description\": \"\"\n      }\n    }\n  ]\n}"
            }
          },
          "metadata": {},
          "execution_count": 6
        }
      ]
    },
    {
      "cell_type": "code",
      "source": [
        "# بررسی و آماده‌سازی دیتا\n",
        "# حذف ستون‌های اضافی اگر وجود داشت\n",
        "if df.shape[1] > 2:\n",
        "    df = df.iloc[:, :2]\n",
        "\n",
        "df.columns = ['label', 'text']\n",
        "df['label'] = df['label'].map({'ham': 0, 'spam': 1})\n",
        "\n",
        "print('شکل داده‌ها:', df.shape)\n",
        "df.head()\n"
      ],
      "metadata": {
        "colab": {
          "base_uri": "https://localhost:8080/",
          "height": 223
        },
        "id": "tSsESPTI1HpY",
        "outputId": "c72f140a-2aa2-43dd-fb7b-5e42a24907fc"
      },
      "execution_count": 7,
      "outputs": [
        {
          "output_type": "stream",
          "name": "stdout",
          "text": [
            "شکل داده‌ها: (5572, 2)\n"
          ]
        },
        {
          "output_type": "execute_result",
          "data": {
            "text/plain": [
              "   label                                               text\n",
              "0      0  Go until jurong point, crazy.. Available only ...\n",
              "1      0                      Ok lar... Joking wif u oni...\n",
              "2      1  Free entry in 2 a wkly comp to win FA Cup fina...\n",
              "3      0  U dun say so early hor... U c already then say...\n",
              "4      0  Nah I don't think he goes to usf, he lives aro..."
            ],
            "text/html": [
              "\n",
              "  <div id=\"df-6bd0b03e-af14-46c0-a45f-13ff97a76fb5\" class=\"colab-df-container\">\n",
              "    <div>\n",
              "<style scoped>\n",
              "    .dataframe tbody tr th:only-of-type {\n",
              "        vertical-align: middle;\n",
              "    }\n",
              "\n",
              "    .dataframe tbody tr th {\n",
              "        vertical-align: top;\n",
              "    }\n",
              "\n",
              "    .dataframe thead th {\n",
              "        text-align: right;\n",
              "    }\n",
              "</style>\n",
              "<table border=\"1\" class=\"dataframe\">\n",
              "  <thead>\n",
              "    <tr style=\"text-align: right;\">\n",
              "      <th></th>\n",
              "      <th>label</th>\n",
              "      <th>text</th>\n",
              "    </tr>\n",
              "  </thead>\n",
              "  <tbody>\n",
              "    <tr>\n",
              "      <th>0</th>\n",
              "      <td>0</td>\n",
              "      <td>Go until jurong point, crazy.. Available only ...</td>\n",
              "    </tr>\n",
              "    <tr>\n",
              "      <th>1</th>\n",
              "      <td>0</td>\n",
              "      <td>Ok lar... Joking wif u oni...</td>\n",
              "    </tr>\n",
              "    <tr>\n",
              "      <th>2</th>\n",
              "      <td>1</td>\n",
              "      <td>Free entry in 2 a wkly comp to win FA Cup fina...</td>\n",
              "    </tr>\n",
              "    <tr>\n",
              "      <th>3</th>\n",
              "      <td>0</td>\n",
              "      <td>U dun say so early hor... U c already then say...</td>\n",
              "    </tr>\n",
              "    <tr>\n",
              "      <th>4</th>\n",
              "      <td>0</td>\n",
              "      <td>Nah I don't think he goes to usf, he lives aro...</td>\n",
              "    </tr>\n",
              "  </tbody>\n",
              "</table>\n",
              "</div>\n",
              "    <div class=\"colab-df-buttons\">\n",
              "\n",
              "  <div class=\"colab-df-container\">\n",
              "    <button class=\"colab-df-convert\" onclick=\"convertToInteractive('df-6bd0b03e-af14-46c0-a45f-13ff97a76fb5')\"\n",
              "            title=\"Convert this dataframe to an interactive table.\"\n",
              "            style=\"display:none;\">\n",
              "\n",
              "  <svg xmlns=\"http://www.w3.org/2000/svg\" height=\"24px\" viewBox=\"0 -960 960 960\">\n",
              "    <path d=\"M120-120v-720h720v720H120Zm60-500h600v-160H180v160Zm220 220h160v-160H400v160Zm0 220h160v-160H400v160ZM180-400h160v-160H180v160Zm440 0h160v-160H620v160ZM180-180h160v-160H180v160Zm440 0h160v-160H620v160Z\"/>\n",
              "  </svg>\n",
              "    </button>\n",
              "\n",
              "  <style>\n",
              "    .colab-df-container {\n",
              "      display:flex;\n",
              "      gap: 12px;\n",
              "    }\n",
              "\n",
              "    .colab-df-convert {\n",
              "      background-color: #E8F0FE;\n",
              "      border: none;\n",
              "      border-radius: 50%;\n",
              "      cursor: pointer;\n",
              "      display: none;\n",
              "      fill: #1967D2;\n",
              "      height: 32px;\n",
              "      padding: 0 0 0 0;\n",
              "      width: 32px;\n",
              "    }\n",
              "\n",
              "    .colab-df-convert:hover {\n",
              "      background-color: #E2EBFA;\n",
              "      box-shadow: 0px 1px 2px rgba(60, 64, 67, 0.3), 0px 1px 3px 1px rgba(60, 64, 67, 0.15);\n",
              "      fill: #174EA6;\n",
              "    }\n",
              "\n",
              "    .colab-df-buttons div {\n",
              "      margin-bottom: 4px;\n",
              "    }\n",
              "\n",
              "    [theme=dark] .colab-df-convert {\n",
              "      background-color: #3B4455;\n",
              "      fill: #D2E3FC;\n",
              "    }\n",
              "\n",
              "    [theme=dark] .colab-df-convert:hover {\n",
              "      background-color: #434B5C;\n",
              "      box-shadow: 0px 1px 3px 1px rgba(0, 0, 0, 0.15);\n",
              "      filter: drop-shadow(0px 1px 2px rgba(0, 0, 0, 0.3));\n",
              "      fill: #FFFFFF;\n",
              "    }\n",
              "  </style>\n",
              "\n",
              "    <script>\n",
              "      const buttonEl =\n",
              "        document.querySelector('#df-6bd0b03e-af14-46c0-a45f-13ff97a76fb5 button.colab-df-convert');\n",
              "      buttonEl.style.display =\n",
              "        google.colab.kernel.accessAllowed ? 'block' : 'none';\n",
              "\n",
              "      async function convertToInteractive(key) {\n",
              "        const element = document.querySelector('#df-6bd0b03e-af14-46c0-a45f-13ff97a76fb5');\n",
              "        const dataTable =\n",
              "          await google.colab.kernel.invokeFunction('convertToInteractive',\n",
              "                                                    [key], {});\n",
              "        if (!dataTable) return;\n",
              "\n",
              "        const docLinkHtml = 'Like what you see? Visit the ' +\n",
              "          '<a target=\"_blank\" href=https://colab.research.google.com/notebooks/data_table.ipynb>data table notebook</a>'\n",
              "          + ' to learn more about interactive tables.';\n",
              "        element.innerHTML = '';\n",
              "        dataTable['output_type'] = 'display_data';\n",
              "        await google.colab.output.renderOutput(dataTable, element);\n",
              "        const docLink = document.createElement('div');\n",
              "        docLink.innerHTML = docLinkHtml;\n",
              "        element.appendChild(docLink);\n",
              "      }\n",
              "    </script>\n",
              "  </div>\n",
              "\n",
              "\n",
              "    <div id=\"df-58f4460b-16f8-4688-a714-61bceba5e513\">\n",
              "      <button class=\"colab-df-quickchart\" onclick=\"quickchart('df-58f4460b-16f8-4688-a714-61bceba5e513')\"\n",
              "                title=\"Suggest charts\"\n",
              "                style=\"display:none;\">\n",
              "\n",
              "<svg xmlns=\"http://www.w3.org/2000/svg\" height=\"24px\"viewBox=\"0 0 24 24\"\n",
              "     width=\"24px\">\n",
              "    <g>\n",
              "        <path d=\"M19 3H5c-1.1 0-2 .9-2 2v14c0 1.1.9 2 2 2h14c1.1 0 2-.9 2-2V5c0-1.1-.9-2-2-2zM9 17H7v-7h2v7zm4 0h-2V7h2v10zm4 0h-2v-4h2v4z\"/>\n",
              "    </g>\n",
              "</svg>\n",
              "      </button>\n",
              "\n",
              "<style>\n",
              "  .colab-df-quickchart {\n",
              "      --bg-color: #E8F0FE;\n",
              "      --fill-color: #1967D2;\n",
              "      --hover-bg-color: #E2EBFA;\n",
              "      --hover-fill-color: #174EA6;\n",
              "      --disabled-fill-color: #AAA;\n",
              "      --disabled-bg-color: #DDD;\n",
              "  }\n",
              "\n",
              "  [theme=dark] .colab-df-quickchart {\n",
              "      --bg-color: #3B4455;\n",
              "      --fill-color: #D2E3FC;\n",
              "      --hover-bg-color: #434B5C;\n",
              "      --hover-fill-color: #FFFFFF;\n",
              "      --disabled-bg-color: #3B4455;\n",
              "      --disabled-fill-color: #666;\n",
              "  }\n",
              "\n",
              "  .colab-df-quickchart {\n",
              "    background-color: var(--bg-color);\n",
              "    border: none;\n",
              "    border-radius: 50%;\n",
              "    cursor: pointer;\n",
              "    display: none;\n",
              "    fill: var(--fill-color);\n",
              "    height: 32px;\n",
              "    padding: 0;\n",
              "    width: 32px;\n",
              "  }\n",
              "\n",
              "  .colab-df-quickchart:hover {\n",
              "    background-color: var(--hover-bg-color);\n",
              "    box-shadow: 0 1px 2px rgba(60, 64, 67, 0.3), 0 1px 3px 1px rgba(60, 64, 67, 0.15);\n",
              "    fill: var(--button-hover-fill-color);\n",
              "  }\n",
              "\n",
              "  .colab-df-quickchart-complete:disabled,\n",
              "  .colab-df-quickchart-complete:disabled:hover {\n",
              "    background-color: var(--disabled-bg-color);\n",
              "    fill: var(--disabled-fill-color);\n",
              "    box-shadow: none;\n",
              "  }\n",
              "\n",
              "  .colab-df-spinner {\n",
              "    border: 2px solid var(--fill-color);\n",
              "    border-color: transparent;\n",
              "    border-bottom-color: var(--fill-color);\n",
              "    animation:\n",
              "      spin 1s steps(1) infinite;\n",
              "  }\n",
              "\n",
              "  @keyframes spin {\n",
              "    0% {\n",
              "      border-color: transparent;\n",
              "      border-bottom-color: var(--fill-color);\n",
              "      border-left-color: var(--fill-color);\n",
              "    }\n",
              "    20% {\n",
              "      border-color: transparent;\n",
              "      border-left-color: var(--fill-color);\n",
              "      border-top-color: var(--fill-color);\n",
              "    }\n",
              "    30% {\n",
              "      border-color: transparent;\n",
              "      border-left-color: var(--fill-color);\n",
              "      border-top-color: var(--fill-color);\n",
              "      border-right-color: var(--fill-color);\n",
              "    }\n",
              "    40% {\n",
              "      border-color: transparent;\n",
              "      border-right-color: var(--fill-color);\n",
              "      border-top-color: var(--fill-color);\n",
              "    }\n",
              "    60% {\n",
              "      border-color: transparent;\n",
              "      border-right-color: var(--fill-color);\n",
              "    }\n",
              "    80% {\n",
              "      border-color: transparent;\n",
              "      border-right-color: var(--fill-color);\n",
              "      border-bottom-color: var(--fill-color);\n",
              "    }\n",
              "    90% {\n",
              "      border-color: transparent;\n",
              "      border-bottom-color: var(--fill-color);\n",
              "    }\n",
              "  }\n",
              "</style>\n",
              "\n",
              "      <script>\n",
              "        async function quickchart(key) {\n",
              "          const quickchartButtonEl =\n",
              "            document.querySelector('#' + key + ' button');\n",
              "          quickchartButtonEl.disabled = true;  // To prevent multiple clicks.\n",
              "          quickchartButtonEl.classList.add('colab-df-spinner');\n",
              "          try {\n",
              "            const charts = await google.colab.kernel.invokeFunction(\n",
              "                'suggestCharts', [key], {});\n",
              "          } catch (error) {\n",
              "            console.error('Error during call to suggestCharts:', error);\n",
              "          }\n",
              "          quickchartButtonEl.classList.remove('colab-df-spinner');\n",
              "          quickchartButtonEl.classList.add('colab-df-quickchart-complete');\n",
              "        }\n",
              "        (() => {\n",
              "          let quickchartButtonEl =\n",
              "            document.querySelector('#df-58f4460b-16f8-4688-a714-61bceba5e513 button');\n",
              "          quickchartButtonEl.style.display =\n",
              "            google.colab.kernel.accessAllowed ? 'block' : 'none';\n",
              "        })();\n",
              "      </script>\n",
              "    </div>\n",
              "    </div>\n",
              "  </div>\n"
            ],
            "application/vnd.google.colaboratory.intrinsic+json": {
              "type": "dataframe",
              "variable_name": "df",
              "summary": "{\n  \"name\": \"df\",\n  \"rows\": 5572,\n  \"fields\": [\n    {\n      \"column\": \"label\",\n      \"properties\": {\n        \"dtype\": \"number\",\n        \"std\": 0,\n        \"min\": 0,\n        \"max\": 1,\n        \"num_unique_values\": 2,\n        \"samples\": [\n          1,\n          0\n        ],\n        \"semantic_type\": \"\",\n        \"description\": \"\"\n      }\n    },\n    {\n      \"column\": \"text\",\n      \"properties\": {\n        \"dtype\": \"string\",\n        \"num_unique_values\": 5169,\n        \"samples\": [\n          \"Did u download the fring app?\",\n          \"Pass dis to all ur contacts n see wat u get! Red;i'm in luv wid u. Blue;u put a smile on my face. Purple;u r realy hot. Pink;u r so swt. Orange;i thnk i lyk u. Green;i realy wana go out wid u. Yelow;i wnt u bck. Black;i'm jealous of u. Brown;i miss you Nw plz giv me one color\"\n        ],\n        \"semantic_type\": \"\",\n        \"description\": \"\"\n      }\n    }\n  ]\n}"
            }
          },
          "metadata": {},
          "execution_count": 7
        }
      ]
    },
    {
      "cell_type": "code",
      "source": [
        "# نمایش آماری تعداد اسپم و غیر اسپم\n",
        "print(df['label'].value_counts())\n",
        "df['label'].value_counts().plot(kind='bar')\n",
        "plt.xticks([0, 1], ['Ham', 'Spam'])\n",
        "plt.title('توزیع داده‌های اسپم و هام')\n",
        "plt.show()\n"
      ],
      "metadata": {
        "colab": {
          "base_uri": "https://localhost:8080/",
          "height": 566
        },
        "id": "V-lFU9nd1JF_",
        "outputId": "d9103def-4327-4ba4-ab71-fb9e1fa941f1"
      },
      "execution_count": 8,
      "outputs": [
        {
          "output_type": "stream",
          "name": "stdout",
          "text": [
            "label\n",
            "0    4825\n",
            "1     747\n",
            "Name: count, dtype: int64\n"
          ]
        },
        {
          "output_type": "display_data",
          "data": {
            "text/plain": [
              "<Figure size 640x480 with 1 Axes>"
            ],
            "image/png": "[encoded data removed]"
          },
          "metadata": {}
        }
      ]
    },
    {
      "cell_type": "code",
      "source": [
        "# پیش‌پردازش متن و تبدیل به ویژگی عددی\n",
        "vectorizer = TfidfVectorizer(stop_words='english', max_features=3000)\n",
        "X = vectorizer.fit_transform(df['text']).toarray()\n",
        "y = df['label'].values\n",
        "\n",
        "print(\"تبدیل متن به ویژگی عددی با موفقیت انجام شد.\")\n"
      ],
      "metadata": {
        "colab": {
          "base_uri": "https://localhost:8080/"
        },
        "id": "umOh6oiN1Kcn",
        "outputId": "0cb64bfe-5829-4153-c6fd-0a2b22a31b2c"
      },
      "execution_count": 9,
      "outputs": [
        {
          "output_type": "stream",
          "name": "stdout",
          "text": [
            "تبدیل متن به ویژگی عددی با موفقیت انجام شد.\n"
          ]
        }
      ]
    },
    {
      "cell_type": "code",
      "source": [
        "# تعریف کراس‌ولیدیشن\n",
        "kf = StratifiedKFold(n_splits=10, shuffle=True, random_state=42)\n"
      ],
      "metadata": {
        "id": "tqbE_rkr1MsQ"
      },
      "execution_count": 10,
      "outputs": []
    },
    {
      "cell_type": "code",
      "source": [
        "# پیدا کردن بهترین پارامتر برای KNN\n",
        "param_grid_knn = {'n_neighbors': [1, 3, 5, 7, 9]}\n",
        "gs_knn = GridSearchCV(KNeighborsClassifier(), param_grid_knn, cv=5, scoring='accuracy')\n",
        "gs_knn.fit(X, y)\n",
        "print(\"بهترین مقدار n_neighbors برای KNN:\", gs_knn.best_params_)\n",
        "print(\"دقت متوسط در 5-fold:\", gs_knn.best_score_)\n"
      ],
      "metadata": {
        "colab": {
          "base_uri": "https://localhost:8080/"
        },
        "id": "-P48DPA81NOh",
        "outputId": "e7f034a6-2267-45d7-dcba-3b2372939f3d"
      },
      "execution_count": 14,
      "outputs": [
        {
          "output_type": "stream",
          "name": "stdout",
          "text": [
            "بهترین مقدار n_neighbors برای KNN: {'n_neighbors': 1}\n",
            "دقت متوسط در 5-fold: 0.9522609108694077\n"
          ]
        }
      ]
    },
    {
      "cell_type": "code",
      "source": [
        "# اجرای KNN با بهترین پارامتر و 10-fold CV\n",
        "knn_best = KNeighborsClassifier(n_neighbors=gs_knn.best_params_['n_neighbors'])\n",
        "knn_scores = cross_val_score(knn_best, X, y, cv=kf, scoring='accuracy')\n",
        "print(\"دقت‌های هر Fold با KNN:\", knn_scores)\n",
        "print(\"دقت میانگین KNN با 10-fold:\", knn_scores.mean())\n"
      ],
      "metadata": {
        "colab": {
          "base_uri": "https://localhost:8080/"
        },
        "id": "GKkqCjma1Ozv",
        "outputId": "6139bc4d-2072-4807-84bf-2495b30aa213"
      },
      "execution_count": 15,
      "outputs": [
        {
          "output_type": "stream",
          "name": "stdout",
          "text": [
            "دقت‌های هر Fold با KNN: [0.96236559 0.96057348 0.96409336 0.9551167  0.97127469 0.95332136\n",
            " 0.95152603 0.95691203 0.96050269 0.95152603]\n",
            "دقت میانگین KNN با 10-fold: 0.9587211958585099\n"
          ]
        }
      ]
    },
    {
      "cell_type": "code",
      "source": [
        "# پیدا کردن بهترین پارامتر برای Logistic Regression\n",
        "param_grid_lr = {'C': [0.01, 0.1, 1, 10, 100], 'solver': ['liblinear']}\n",
        "gs_lr = GridSearchCV(LogisticRegression(max_iter=1000), param_grid_lr, cv=5, scoring='accuracy')\n",
        "gs_lr.fit(X, y)\n",
        "print(\"بهترین مقدار C برای Logistic Regression:\", gs_lr.best_params_)\n",
        "print(\"دقت متوسط در 5-fold:\", gs_lr.best_score_)\n"
      ],
      "metadata": {
        "colab": {
          "base_uri": "https://localhost:8080/"
        },
        "id": "Bu3MXrtl1P__",
        "outputId": "b8fe2e17-ab0e-470c-c316-aea6cb31352e"
      },
      "execution_count": 16,
      "outputs": [
        {
          "output_type": "stream",
          "name": "stdout",
          "text": [
            "بهترین مقدار C برای Logistic Regression: {'C': 100, 'solver': 'liblinear'}\n",
            "دقت متوسط در 5-fold: 0.9806170145961308\n"
          ]
        }
      ]
    },
    {
      "cell_type": "code",
      "source": [
        "# اجرای Logistic Regression با بهترین پارامتر و 10-fold CV\n",
        "lr_best = LogisticRegression(C=gs_lr.best_params_['C'], solver='liblinear', max_iter=1000)\n",
        "lr_scores = cross_val_score(lr_best, X, y, cv=kf, scoring='accuracy')\n",
        "print(\"دقت‌های هر Fold با Logistic Regression:\", lr_scores)\n",
        "print(\"دقت میانگین Logistic Regression با 10-fold:\", lr_scores.mean())\n"
      ],
      "metadata": {
        "colab": {
          "base_uri": "https://localhost:8080/"
        },
        "id": "C7yugGWv1RGY",
        "outputId": "c2b25e23-25e1-4e6d-8d8c-73da5b789187"
      },
      "execution_count": 17,
      "outputs": [
        {
          "output_type": "stream",
          "name": "stdout",
          "text": [
            "دقت‌های هر Fold با Logistic Regression: [0.99103943 0.98207885 0.98204668 0.98922801 0.98384201 0.98563734\n",
            " 0.98204668 0.97845601 0.99102334 0.98025135]\n",
            "دقت میانگین Logistic Regression با 10-fold: 0.9845649697882279\n"
          ]
        }
      ]
    },
    {
      "cell_type": "code",
      "source": [
        "# پیدا کردن بهترین پارامتر برای Random Forest\n",
        "param_grid_rf = {\n",
        "    'n_estimators': [50, 100, 200],\n",
        "    'max_depth': [None, 10, 20]\n",
        "}\n",
        "gs_rf = GridSearchCV(RandomForestClassifier(random_state=42), param_grid_rf, cv=5, scoring='accuracy')\n",
        "gs_rf.fit(X, y)\n",
        "print(\"بهترین پارامترها برای Random Forest:\", gs_rf.best_params_)\n",
        "print(\"دقت متوسط در 5-fold:\", gs_rf.best_score_)\n"
      ],
      "metadata": {
        "colab": {
          "base_uri": "https://localhost:8080/"
        },
        "id": "Z06tkYLE1SBH",
        "outputId": "8d26a519-4d78-40b9-bfdf-1ca7b33dbe46"
      },
      "execution_count": 18,
      "outputs": [
        {
          "output_type": "stream",
          "name": "stdout",
          "text": [
            "بهترین پارامترها برای Random Forest: {'max_depth': None, 'n_estimators': 200}\n",
            "دقت متوسط در 5-fold: 0.9797187044625677\n"
          ]
        }
      ]
    },
    {
      "cell_type": "code",
      "source": [
        "# اجرای Random Forest با بهترین پارامتر و 10-fold CV\n",
        "rf_best = RandomForestClassifier(n_estimators=gs_rf.best_params_['n_estimators'],\n",
        "                                max_depth=gs_rf.best_params_['max_depth'],\n",
        "                                random_state=42)\n",
        "rf_scores = cross_val_score(rf_best, X, y, cv=kf, scoring='accuracy')\n",
        "print(\"دقت‌های هر Fold با Random Forest:\", rf_scores)\n",
        "print(\"دقت میانگین Random Forest با 10-fold:\", rf_scores.mean())\n"
      ],
      "metadata": {
        "colab": {
          "base_uri": "https://localhost:8080/"
        },
        "id": "QLVTcJKl1TlR",
        "outputId": "1d6e8f93-4a50-44a3-d416-4df57e09b1c6"
      },
      "execution_count": 20,
      "outputs": [
        {
          "output_type": "stream",
          "name": "stdout",
          "text": [
            "دقت‌های هر Fold با Random Forest: [0.98207885 0.97670251 0.97845601 0.99281867 0.98743268 0.97486535\n",
            " 0.98384201 0.97486535 0.98922801 0.98563734]\n",
            "دقت میانگین Random Forest با 10-fold: 0.9825926783910222\n"
          ]
        }
      ]
    },
    {
      "cell_type": "code",
      "source": [
        "# سلول: پیدا کردن بهترین پارامترهای XGBoost با GridSearchCV\n",
        "\n",
        "param_grid_xgb = {\n",
        "    'n_estimators': [100, 200],\n",
        "    'max_depth': [3, 5, 7],\n",
        "    'learning_rate': [0.05, 0.1, 0.2]\n",
        "}\n",
        "\n",
        "gs_xgb = GridSearchCV(\n",
        "    XGBClassifier(use_label_encoder=False, eval_metric='logloss', random_state=42),\n",
        "    param_grid_xgb,\n",
        "    cv=5,\n",
        "    scoring='accuracy'\n",
        ")\n",
        "gs_xgb.fit(X, y)\n",
        "\n",
        "print(\"بهترین پارامترهای XGBoost:\", gs_xgb.best_params_)\n",
        "print(\"دقت متوسط 5-fold:\", gs_xgb.best_score_)\n"
      ],
      "metadata": {
        "colab": {
          "base_uri": "https://localhost:8080/"
        },
        "id": "T51xTNuz7fPB",
        "outputId": "fad502b0-4ed9-4ab7-b374-7aec27c4a038"
      },
      "execution_count": 22,
      "outputs": [
        {
          "output_type": "stream",
          "name": "stdout",
          "text": [
            "بهترین پارامترهای XGBoost: {'learning_rate': 0.1, 'max_depth': 7, 'n_estimators': 200}\n",
            "دقت متوسط 5-fold: 0.9743346402492532\n"
          ]
        }
      ]
    },
    {
      "cell_type": "code",
      "source": [
        "#  اجرای XGBoost با بهترین پارامترها و 10-fold Cross Validation\n",
        "\n",
        "xgb_best = XGBClassifier(\n",
        "    n_estimators=gs_xgb.best_params_['n_estimators'],\n",
        "    max_depth=gs_xgb.best_params_['max_depth'],\n",
        "    learning_rate=gs_xgb.best_params_['learning_rate'],\n",
        "    use_label_encoder=False,\n",
        "    eval_metric='logloss',\n",
        "    random_state=42\n",
        ")\n",
        "xgb_scores = cross_val_score(xgb_best, X, y, cv=kf, scoring='accuracy')\n",
        "\n",
        "print(\"دقت‌های هر Fold با XGBoost:\", xgb_scores)\n",
        "print(\"دقت میانگین XGBoost با 10-fold:\", xgb_scores.mean())\n"
      ],
      "metadata": {
        "colab": {
          "base_uri": "https://localhost:8080/"
        },
        "id": "J5ikkRHN8GxV",
        "outputId": "68bdaebd-d84c-427c-fd0c-bf7ddeeb6dd9"
      },
      "execution_count": 24,
      "outputs": [
        {
          "output_type": "stream",
          "name": "stdout",
          "text": [
            "دقت‌های هر Fold با XGBoost: [0.98387097 0.96774194 0.96409336 0.98025135 0.97486535 0.97307002\n",
            " 0.97307002 0.97486535 0.97845601 0.97666068]\n",
            "دقت میانگین XGBoost با 10-fold: 0.9746945039671049\n"
          ]
        }
      ]
    },
    {
      "cell_type": "code",
      "source": [
        "# مقایسه نتایج\n",
        "\n",
        "results = pd.DataFrame({\n",
        "    'Model': ['KNN', 'Logistic Regression', 'Random Forest', 'XGBoost'],\n",
        "    'Mean Accuracy': [knn_scores.mean(), lr_scores.mean(), rf_scores.mean(), xgb_scores.mean()],\n",
        "    'Std Accuracy': [knn_scores.std(), lr_scores.std(), rf_scores.std(), xgb_scores.std()]\n",
        "})\n",
        "print(results)\n",
        "\n",
        "results.plot(x='Model', y='Mean Accuracy', kind='bar', legend=False, ylim=(0.95, 1))\n",
        "plt.title(\"مقایسه دقت مدل‌ها\")\n",
        "plt.ylabel('دقت میانگین (10-fold)')\n",
        "plt.show()"
      ],
      "metadata": {
        "colab": {
          "base_uri": "https://localhost:8080/",
          "height": 677
        },
        "id": "LyRbsq5A8GwI",
        "outputId": "edde7860-07f0-412b-9ece-06e33f8b25f3"
      },
      "execution_count": 25,
      "outputs": [
        {
          "output_type": "stream",
          "name": "stdout",
          "text": [
            "                 Model  Mean Accuracy  Std Accuracy\n",
            "0                  KNN       0.958721      0.005961\n",
            "1  Logistic Regression       0.984565      0.004264\n",
            "2        Random Forest       0.982593      0.005953\n",
            "3              XGBoost       0.974695      0.005470\n"
          ]
        },
        {
          "output_type": "display_data",
          "data": {
            "text/plain": [
              "<Figure size 640x480 with 1 Axes>"
            ],
            "image/png": "[encoded data removed]"
          },
          "metadata": {}
        }
      ]
    }
  ]
}